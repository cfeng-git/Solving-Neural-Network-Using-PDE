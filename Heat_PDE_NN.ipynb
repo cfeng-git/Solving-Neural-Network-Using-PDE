{
 "cells": [
  {
   "cell_type": "code",
   "execution_count": 1,
   "id": "040ea5a0",
   "metadata": {},
   "outputs": [],
   "source": [
    "import numpy as np\n",
    "import torch\n",
    "from torch import nn\n",
    "import matplotlib.pyplot as plt\n",
    "from torch.utils.data import Dataset, DataLoader\n",
    "import datetime"
   ]
  },
  {
   "cell_type": "markdown",
   "id": "e705f784",
   "metadata": {},
   "source": [
    "# Description of the heat equation \n",
    "\n",
    "$X_{n+1}^{m,j}=H(t_n,t_{n+1},X_{n}^{m,j},W_{n+1}^{m,j}-W_{n}^{m,j})$ where $H(s,t,x,w)=x+\\sqrt{2}Id_{\\mathbb{R}^{2}}w$\n",
    "\n",
    "therefore: $X_{n+1}=X_{n}+\\sqrt{2}Id_{\\mathbb{R}^{2}}\\Delta W_{n}$\n",
    "\n",
    "Then we randomly draw the initial condition from interval $[0,1]$ under uniform distribution\n",
    "\n",
    "* $\\xi = X_{0}\\in[0,1]^{2}$\n",
    "\n",
    "$\\varphi(x)=u(0,x)=\\|x\\|^{2}$\n",
    "\n",
    "solution of the pde: $u(t,x) = \\|x\\|^{2}+2td$"
   ]
  },
  {
   "cell_type": "code",
   "execution_count": 2,
   "id": "6cf057c0",
   "metadata": {},
   "outputs": [],
   "source": [
    "class dataset(Dataset):\n",
    "    def __init__(self,x,y):\n",
    "        self.x = torch.tensor(x,dtype=torch.float32)\n",
    "        self.y = torch.tensor(y,dtype=torch.float32)\n",
    "        self.length = self.x.shape[0]\n",
    " \n",
    "    def __getitem__(self,idx):\n",
    "        return self.x[idx],self.y[idx]\n",
    "    \n",
    "    def __len__(self):\n",
    "        return self.length\n",
    "\n",
    "def phi(x):\n",
    "    return torch.sum(x**2,dim=1,keepdim=True)"
   ]
  },
  {
   "cell_type": "code",
   "execution_count": 3,
   "id": "09534ab6",
   "metadata": {},
   "outputs": [],
   "source": [
    "np.random.seed(3)\n",
    "T, N, d = 1., 1, 100\n",
    "data_size = 8192\n",
    "\n",
    "\n",
    "xi_tr = torch.from_numpy(np.random.uniform(0,1,(data_size,d)))\n",
    "x_sde_tr = xi_tr + torch.from_numpy(np.random.normal(0,np.sqrt(2.* T/N),(data_size,d)))\n",
    "u_ref_tr = phi(xi_tr) + 2.*T*d\n",
    "\n",
    "xi_val = torch.from_numpy(np.random.uniform(0,1,(int(data_size/4),d)))\n",
    "x_sde_val = xi_val + torch.from_numpy(np.random.normal(0,np.sqrt(2.* T/N),(int(data_size/4),d)))\n",
    "u_ref_val = phi(xi_val) + 2.*T*d"
   ]
  },
  {
   "cell_type": "code",
   "execution_count": 4,
   "id": "fba17018",
   "metadata": {},
   "outputs": [
    {
     "name": "stderr",
     "output_type": "stream",
     "text": [
      "<ipython-input-2-0ff940253ab3>:3: UserWarning: To copy construct from a tensor, it is recommended to use sourceTensor.clone().detach() or sourceTensor.clone().detach().requires_grad_(True), rather than torch.tensor(sourceTensor).\n",
      "  self.x = torch.tensor(x,dtype=torch.float32)\n",
      "<ipython-input-2-0ff940253ab3>:4: UserWarning: To copy construct from a tensor, it is recommended to use sourceTensor.clone().detach() or sourceTensor.clone().detach().requires_grad_(True), rather than torch.tensor(sourceTensor).\n",
      "  self.y = torch.tensor(y,dtype=torch.float32)\n"
     ]
    }
   ],
   "source": [
    "x_tr = torch.stack((xi_tr,x_sde_tr),dim=2)\n",
    "y_tr = u_ref_tr\n",
    "\n",
    "x_val = torch.stack((xi_val,x_sde_val),dim=2)\n",
    "y_val = u_ref_val\n",
    "\n",
    "train_set = dataset(x_tr,y_tr)\n",
    "val_set = dataset(x_val,y_val)\n",
    "\n",
    "tr_loader = DataLoader(train_set, batch_size = data_size, shuffle=True)\n",
    "val_loader = DataLoader(val_set, batch_size = int(data_size/4), shuffle=True)"
   ]
  },
  {
   "cell_type": "markdown",
   "id": "acf89020",
   "metadata": {},
   "source": [
    "# the neural network\n",
    "\n",
    "* time step: 1\n",
    "* dimension: 100\n",
    "* neural network architecture:\n",
    "    * 1d batch normalization\n",
    "    * linear layer 1 (100 in, 100 out), tanh activation\n",
    "    * linear layer 2 (100 in, 100 out), tanh activation\n",
    "    * output layer 3 (100 in, 1 out)\n",
    "* loss function:\n",
    "    * min $E[(\\phi(x_T)-U(\\xi))^{2}]$\n",
    "* optimizer:\n",
    "    * adam: $\\beta_1 = 0.99$, $\\beta_2 = 0.999$"
   ]
  },
  {
   "cell_type": "code",
   "execution_count": 5,
   "id": "cc135e11",
   "metadata": {},
   "outputs": [],
   "source": [
    "class PdeNet(nn.Module):\n",
    "    def __init__(self):\n",
    "        super().__init__()\n",
    "        self.fc1 = nn.Sequential(\n",
    "            nn.BatchNorm1d(d),\n",
    "            nn.Linear(d,d),\n",
    "            nn.Tanh()\n",
    "        )\n",
    "        self.fc2 = nn.Sequential(\n",
    "            nn.Linear(d,d),\n",
    "            nn.Tanh()\n",
    "        )\n",
    "        self.out = nn.Linear(d,1)\n",
    "        \n",
    "    \n",
    "    def forward(self, x):\n",
    "        x = self.fc1(x)\n",
    "        x = self.fc2(x)\n",
    "        output = self.out(x)\n",
    "        return output\n",
    "        "
   ]
  },
  {
   "cell_type": "code",
   "execution_count": 11,
   "id": "980c426c",
   "metadata": {},
   "outputs": [],
   "source": [
    "def training_loop(n_epochs, optimizer, model, loss_fn, train_loader, val_loader): \n",
    "    ep_loss_train = []\n",
    "    \n",
    "    for epoch in range(1,n_epochs+1):\n",
    "        loss_tr = 0.0\n",
    "        corr_tr = 0.0\n",
    "        for x, y in train_loader:\n",
    "            outputs = model(x[:,:,0])\n",
    "            loss = loss_fn(outputs,phi(x[:,:,1]))\n",
    "            optimizer.zero_grad()\n",
    "            loss.backward()\n",
    "            optimizer.step()\n",
    "            loss_tr += loss.item()\n",
    "            corr_tr += loss_fn(y,phi(x[:,:,1]))\n",
    "            \n",
    "        \n",
    "        ep_loss_train.append(loss_tr/len(train_loader))\n",
    "        \n",
    "        if epoch%100 == 0:\n",
    "            print(f'{datetime.datetime.now()} epoch {epoch}, Training loss = {loss_tr/len(train_loader)}')\n",
    " \n",
    "    return ep_loss_train"
   ]
  },
  {
   "cell_type": "code",
   "execution_count": 12,
   "id": "26a6d70d",
   "metadata": {},
   "outputs": [
    {
     "name": "stdout",
     "output_type": "stream",
     "text": [
      "2021-10-21 16:20:26.876423 epoch 100, Training loss = 19107.36328125\n",
      "2021-10-21 16:20:35.813734 epoch 200, Training loss = 3147.5703125\n",
      "2021-10-21 16:20:45.589021 epoch 300, Training loss = 1261.487548828125\n",
      "2021-10-21 16:20:54.482313 epoch 400, Training loss = 1929.873779296875\n",
      "2021-10-21 16:21:04.513154 epoch 500, Training loss = 1348.6009521484375\n",
      "2021-10-21 16:21:13.439907 epoch 600, Training loss = 1097.2728271484375\n",
      "2021-10-21 16:21:23.167962 epoch 700, Training loss = 1144.685302734375\n",
      "2021-10-21 16:21:32.698085 epoch 800, Training loss = 1105.1190185546875\n",
      "2021-10-21 16:21:43.260195 epoch 900, Training loss = 1097.968505859375\n",
      "2021-10-21 16:21:52.202926 epoch 1000, Training loss = 1098.728759765625\n"
     ]
    }
   ],
   "source": [
    "heat_NN = PdeNet()\n",
    "loss_fn = nn.MSELoss()\n",
    "optimizer = torch.optim.Adam(heat_NN.parameters(), lr=0.01, betas=(0.99,0.999))\n",
    "\n",
    "result = training_loop(1000,optimizer,heat_NN,loss_fn,tr_loader,val_loader)"
   ]
  },
  {
   "cell_type": "markdown",
   "id": "cad82898",
   "metadata": {},
   "source": [
    "Target_loss is the loss function calculated using the pde solution:\n",
    "\n",
    "$E[(\\phi(x_T)-u(t,x))^{2}]$ = $E[(\\phi(x_T)- (\\|x\\|^{2}+2td))^{2}]$"
   ]
  },
  {
   "cell_type": "code",
   "execution_count": 13,
   "id": "87f07cb2",
   "metadata": {},
   "outputs": [
    {
     "name": "stdout",
     "output_type": "stream",
     "text": [
      "tensor(1089.8759)\n"
     ]
    }
   ],
   "source": [
    "target_loss = 0.0\n",
    "\n",
    "for x, y in tr_loader:\n",
    "    target_loss += loss_fn(y,phi(x[:,:,1]))\n",
    "\n",
    "target_loss = target_loss/(len(tr_loader))\n",
    "print(target_loss)"
   ]
  },
  {
   "cell_type": "code",
   "execution_count": 14,
   "id": "ce8032b7",
   "metadata": {},
   "outputs": [
    {
     "data": {
      "image/png": "[encoded data removed]",
      "text/plain": [
       "<Figure size 720x360 with 1 Axes>"
      ]
     },
     "metadata": {
      "needs_background": "light"
     },
     "output_type": "display_data"
    }
   ],
   "source": [
    "def plot_result(result,target):\n",
    "    index = np.arange(len(result))\n",
    "    fig, (ax1) = plt.subplots(1,1, figsize=(10,5))\n",
    "    ax1.plot(index,result,label='training loss', c='red')\n",
    "    ax1.hlines(y=target,xmin=0,xmax=1000,color='g',label='target loss')\n",
    "    ax1.legend(loc='upper right')\n",
    "    ax1.set_xlabel('epoch')\n",
    "    ax1.set_ylabel('loss')\n",
    "    \n",
    "    plt.show()\n",
    "    return fig\n",
    "\n",
    "result_plot = plot_result(result,target_loss)"
   ]
  },
  {
   "cell_type": "code",
   "execution_count": null,
   "id": "da3394e6",
   "metadata": {},
   "outputs": [],
   "source": []
  }
 ],
 "metadata": {
  "kernelspec": {
   "display_name": "Python 3",
   "language": "python",
   "name": "python3"
  },
  "language_info": {
   "codemirror_mode": {
    "name": "ipython",
    "version": 3
   },
   "file_extension": ".py",
   "mimetype": "text/x-python",
   "name": "python",
   "nbconvert_exporter": "python",
   "pygments_lexer": "ipython3",
   "version": "3.8.8"
  }
 },
 "nbformat": 4,
 "nbformat_minor": 5
}
